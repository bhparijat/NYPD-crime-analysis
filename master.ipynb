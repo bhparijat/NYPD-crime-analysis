{
 "cells": [
  {
   "cell_type": "code",
   "execution_count": 1,
   "metadata": {},
   "outputs": [],
   "source": [
    "import pandas as pd\n",
    "import seaborn as sns\n",
    "import matplotlib.pyplot as plt\n",
    "import pickle as pkl\n",
    "import warnings\n",
    "import time as time\n",
    "import requests\n",
    "from bs4 import BeautifulSoup\n",
    "import urllib3\n",
    "urllib3.disable_warnings(urllib3.exceptions.InsecureRequestWarning)\n",
    "from requests_html import HTMLSession,AsyncHTMLSession"
   ]
  },
  {
   "cell_type": "code",
   "execution_count": 2,
   "metadata": {},
   "outputs": [],
   "source": [
    "data = pd.read_csv('/home/bh_parijat/data/main_dataset_update1.2.csv')"
   ]
  },
  {
   "cell_type": "code",
   "execution_count": 3,
   "metadata": {},
   "outputs": [
    {
     "data": {
      "text/plain": [
       "(4791859, 21)"
      ]
     },
     "execution_count": 3,
     "metadata": {},
     "output_type": "execute_result"
    }
   ],
   "source": [
    "data.shape"
   ]
  },
  {
   "cell_type": "code",
   "execution_count": 4,
   "metadata": {},
   "outputs": [
    {
     "data": {
      "text/plain": [
       "11207.0    98484\n",
       "10035.0    94918\n",
       "11212.0    92070\n",
       "10457.0    87027\n",
       "10001.0    86859\n",
       "           ...  \n",
       "10152.0        4\n",
       "10704.0        3\n",
       "11020.0        2\n",
       "10045.0        1\n",
       "11559.0        1\n",
       "Name: zipcode, Length: 214, dtype: int64"
      ]
     },
     "execution_count": 4,
     "metadata": {},
     "output_type": "execute_result"
    }
   ],
   "source": [
    "data.zipcode.value_counts()"
   ]
  },
  {
   "cell_type": "code",
   "execution_count": 84,
   "metadata": {},
   "outputs": [],
   "source": [
    "async def get_html_data(url = None):\n",
    "    \n",
    "    session = AsyncHTMLSession()\n",
    "\n",
    "    response = await session.get(url)\n",
    "    \n",
    "    soup = BeautifulSoup(response.content,'html.parser')\n",
    "    \n",
    "    table_rows = soup.find_all('tr')\n",
    "    \n",
    "    return table_rows"
   ]
  },
  {
   "cell_type": "code",
   "execution_count": 85,
   "metadata": {},
   "outputs": [
    {
     "name": "stderr",
     "output_type": "stream",
     "text": [
      "/home/bh_parijat/anaconda3/lib/python3.7/site-packages/ipykernel_launcher.py:2: RuntimeWarning: coroutine 'get_html_data' was never awaited\n",
      "  \n",
      "RuntimeWarning: Enable tracemalloc to get the object allocation traceback\n"
     ]
    }
   ],
   "source": [
    "url = \"http://www.zipcodestogo.com/New%20York/\"\n",
    "table_rows = get_html_data(url = url)"
   ]
  },
  {
   "cell_type": "code",
   "execution_count": 83,
   "metadata": {},
   "outputs": [
    {
     "ename": "TypeError",
     "evalue": "object of type 'coroutine' has no len()",
     "output_type": "error",
     "traceback": [
      "\u001b[0;31m---------------------------------------------------------------------------\u001b[0m",
      "\u001b[0;31mTypeError\u001b[0m                                 Traceback (most recent call last)",
      "\u001b[0;32m<ipython-input-83-086917681986>\u001b[0m in \u001b[0;36m<module>\u001b[0;34m\u001b[0m\n\u001b[0;32m----> 1\u001b[0;31m \u001b[0mprint\u001b[0m\u001b[0;34m(\u001b[0m\u001b[0mlen\u001b[0m\u001b[0;34m(\u001b[0m\u001b[0mtable_rows\u001b[0m\u001b[0;34m)\u001b[0m\u001b[0;34m)\u001b[0m\u001b[0;34m\u001b[0m\u001b[0;34m\u001b[0m\u001b[0m\n\u001b[0m",
      "\u001b[0;31mTypeError\u001b[0m: object of type 'coroutine' has no len()"
     ]
    }
   ],
   "source": [
    "print(len(table_rows))"
   ]
  },
  {
   "cell_type": "code",
   "execution_count": 66,
   "metadata": {},
   "outputs": [
    {
     "data": {
      "text/plain": [
       "[<td align=\"center\"><a href=\"//www.zipcodestogo.com/Elmira/NY/14925/\">14925</a></td>,\n",
       " <td>Elmira</td>,\n",
       " <td><a href=\"/Chemung/NY/\">Chemung</a></td>,\n",
       " <td><div align=\"center\"><a href=\"//maps.google.com/maps?oi=map&amp;q=14925\">View Map</a></div></td>]"
      ]
     },
     "execution_count": 66,
     "metadata": {},
     "output_type": "execute_result"
    }
   ],
   "source": [
    "table_rows[-10].find_all('td')"
   ]
  },
  {
   "cell_type": "code",
   "execution_count": 67,
   "metadata": {},
   "outputs": [],
   "source": [
    "def create_map(rows = None):\n",
    "    \n",
    "    \"\"\"\n",
    "    Used for creating a map for zipcode to city and vice-versa\n",
    "    \n",
    "    \"\"\"\n",
    "    \n",
    "    if not rows:\n",
    "        return\n",
    "    map_zipcode_city = {}\n",
    "    \n",
    "    map_city_zipcode = {}\n",
    "    for row in rows:\n",
    "        \n",
    "        trs = row.find_all('td')\n",
    "        \n",
    "        if len(trs)!=4:\n",
    "            continue\n",
    "        zipcode = row.find_all('td')[0].text\n",
    "        city = row.find_all('td')[1].text\n",
    "        \n",
    "        map_zipcode_city[zipcode] = city\n",
    "        \n",
    "        codes = map_city_zipcode.get(city,[])\n",
    "        \n",
    "        codes.append(zipcode)\n",
    "        \n",
    "        \n",
    "    return map_city_zipcode,map_zipcode_city"
   ]
  },
  {
   "cell_type": "code",
   "execution_count": 68,
   "metadata": {},
   "outputs": [],
   "source": [
    "map_city_zipcode,map_zipcode_city = create_map(rows=table_rows[3:])"
   ]
  },
  {
   "cell_type": "code",
   "execution_count": 69,
   "metadata": {},
   "outputs": [
    {
     "data": {
      "text/plain": [
       "2205"
      ]
     },
     "execution_count": 69,
     "metadata": {},
     "output_type": "execute_result"
    }
   ],
   "source": [
    "len(map_zipcode_city.keys())"
   ]
  },
  {
   "cell_type": "code",
   "execution_count": 77,
   "metadata": {},
   "outputs": [],
   "source": [
    "def create_dataframe(map_zipcode_city=None):\n",
    "    \n",
    "    if map_zipcode_city is None:\n",
    "        return None\n",
    "    \n",
    "    zipcode,city = [],[]\n",
    "    for key in map_zipcode_city:\n",
    "        zipcode.append(key)\n",
    "        city.append(map_zipcode_city[key])\n",
    "    zipcode_city_df = pd.DataFrame(data={'zipcode':zipcode,'city':city})\n",
    "    \n",
    "    return zipcode_city_df"
   ]
  },
  {
   "cell_type": "code",
   "execution_count": 78,
   "metadata": {},
   "outputs": [
    {
     "data": {
      "text/html": [
       "<div>\n",
       "<style scoped>\n",
       "    .dataframe tbody tr th:only-of-type {\n",
       "        vertical-align: middle;\n",
       "    }\n",
       "\n",
       "    .dataframe tbody tr th {\n",
       "        vertical-align: top;\n",
       "    }\n",
       "\n",
       "    .dataframe thead th {\n",
       "        text-align: right;\n",
       "    }\n",
       "</style>\n",
       "<table border=\"1\" class=\"dataframe\">\n",
       "  <thead>\n",
       "    <tr style=\"text-align: right;\">\n",
       "      <th></th>\n",
       "      <th>zipcode</th>\n",
       "      <th>city</th>\n",
       "    </tr>\n",
       "  </thead>\n",
       "  <tbody>\n",
       "    <tr>\n",
       "      <th>0</th>\n",
       "      <td>00501</td>\n",
       "      <td>Holtsville</td>\n",
       "    </tr>\n",
       "    <tr>\n",
       "      <th>1</th>\n",
       "      <td>00544</td>\n",
       "      <td>Holtsville</td>\n",
       "    </tr>\n",
       "    <tr>\n",
       "      <th>2</th>\n",
       "      <td>06390</td>\n",
       "      <td>Fishers Island</td>\n",
       "    </tr>\n",
       "    <tr>\n",
       "      <th>3</th>\n",
       "      <td>10001</td>\n",
       "      <td>New York</td>\n",
       "    </tr>\n",
       "    <tr>\n",
       "      <th>4</th>\n",
       "      <td>10002</td>\n",
       "      <td>New York</td>\n",
       "    </tr>\n",
       "  </tbody>\n",
       "</table>\n",
       "</div>"
      ],
      "text/plain": [
       "  zipcode            city\n",
       "0   00501      Holtsville\n",
       "1   00544      Holtsville\n",
       "2   06390  Fishers Island\n",
       "3   10001        New York\n",
       "4   10002        New York"
      ]
     },
     "execution_count": 78,
     "metadata": {},
     "output_type": "execute_result"
    }
   ],
   "source": [
    "zipcode_city_df = create_dataframe(map_zipcode_city=map_zipcode_city)\n",
    "zipcode_city_df.head()"
   ]
  },
  {
   "cell_type": "code",
   "execution_count": null,
   "metadata": {},
   "outputs": [],
   "source": []
  }
 ],
 "metadata": {
  "kernelspec": {
   "display_name": "Python 3",
   "language": "python",
   "name": "python3"
  },
  "language_info": {
   "codemirror_mode": {
    "name": "ipython",
    "version": 3
   },
   "file_extension": ".py",
   "mimetype": "text/x-python",
   "name": "python",
   "nbconvert_exporter": "python",
   "pygments_lexer": "ipython3",
   "version": "3.7.5"
  }
 },
 "nbformat": 4,
 "nbformat_minor": 2
}
