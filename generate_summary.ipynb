{
 "cells": [
  {
   "cell_type": "code",
   "execution_count": 1,
   "metadata": {},
   "outputs": [],
   "source": [
    "import pandas as pd\n",
    "import numpy as np\n",
    "import matplotlib.pyplot as plt\n",
    "import seaborn as sns\n",
    "import time\n",
    "from tqdm import tqdm\n",
    "import multiprocessing"
   ]
  },
  {
   "cell_type": "code",
   "execution_count": 2,
   "metadata": {},
   "outputs": [],
   "source": [
    "df = pd.read_csv(\"/home/bh_parijat/data/master_mapped_data.csv\")"
   ]
  },
  {
   "cell_type": "code",
   "execution_count": 3,
   "metadata": {},
   "outputs": [
    {
     "name": "stdout",
     "output_type": "stream",
     "text": [
      "(4791859, 22)\n"
     ]
    }
   ],
   "source": [
    "print(df.shape)"
   ]
  },
  {
   "cell_type": "code",
   "execution_count": 4,
   "metadata": {},
   "outputs": [
    {
     "name": "stdout",
     "output_type": "stream",
     "text": [
      "Index(['index', 'ARREST_KEY', 'ARREST_DATE', 'PD_CD', 'PD_DESC', 'KY_CD',\n",
      "       'OFNS_DESC', 'LAW_CODE', 'LAW_CAT_CD', 'ARREST_BORO', 'ARREST_PRECINCT',\n",
      "       'JURISDICTION_CODE', 'AGE_GROUP', 'PERP_SEX', 'PERP_RACE', 'X_COORD_CD',\n",
      "       'Y_COORD_CD', 'Latitude', 'Longitude', 'org_index', 'zipcode', 'city'],\n",
      "      dtype='object')\n"
     ]
    }
   ],
   "source": [
    "print(df.columns)"
   ]
  },
  {
   "cell_type": "code",
   "execution_count": 5,
   "metadata": {},
   "outputs": [
    {
     "data": {
      "text/html": [
       "<div>\n",
       "<style scoped>\n",
       "    .dataframe tbody tr th:only-of-type {\n",
       "        vertical-align: middle;\n",
       "    }\n",
       "\n",
       "    .dataframe tbody tr th {\n",
       "        vertical-align: top;\n",
       "    }\n",
       "\n",
       "    .dataframe thead th {\n",
       "        text-align: right;\n",
       "    }\n",
       "</style>\n",
       "<table border=\"1\" class=\"dataframe\">\n",
       "  <thead>\n",
       "    <tr style=\"text-align: right;\">\n",
       "      <th></th>\n",
       "      <th>index</th>\n",
       "      <th>ARREST_KEY</th>\n",
       "      <th>ARREST_DATE</th>\n",
       "      <th>PD_CD</th>\n",
       "      <th>PD_DESC</th>\n",
       "      <th>KY_CD</th>\n",
       "      <th>OFNS_DESC</th>\n",
       "      <th>LAW_CODE</th>\n",
       "      <th>LAW_CAT_CD</th>\n",
       "      <th>ARREST_BORO</th>\n",
       "      <th>...</th>\n",
       "      <th>AGE_GROUP</th>\n",
       "      <th>PERP_SEX</th>\n",
       "      <th>PERP_RACE</th>\n",
       "      <th>X_COORD_CD</th>\n",
       "      <th>Y_COORD_CD</th>\n",
       "      <th>Latitude</th>\n",
       "      <th>Longitude</th>\n",
       "      <th>org_index</th>\n",
       "      <th>zipcode</th>\n",
       "      <th>city</th>\n",
       "    </tr>\n",
       "  </thead>\n",
       "  <tbody>\n",
       "    <tr>\n",
       "      <th>0</th>\n",
       "      <td>0</td>\n",
       "      <td>173130602</td>\n",
       "      <td>12/31/2017</td>\n",
       "      <td>566.0</td>\n",
       "      <td>MARIJUANA, POSSESSION</td>\n",
       "      <td>678.0</td>\n",
       "      <td>MISCELLANEOUS PENAL LAW</td>\n",
       "      <td>PL 2210500</td>\n",
       "      <td>V</td>\n",
       "      <td>Q</td>\n",
       "      <td>...</td>\n",
       "      <td>25-44</td>\n",
       "      <td>M</td>\n",
       "      <td>BLACK</td>\n",
       "      <td>1063056.0</td>\n",
       "      <td>207463.0</td>\n",
       "      <td>40.735772</td>\n",
       "      <td>-73.715638</td>\n",
       "      <td>0.0</td>\n",
       "      <td>11426</td>\n",
       "      <td>Bellerose</td>\n",
       "    </tr>\n",
       "    <tr>\n",
       "      <th>1</th>\n",
       "      <td>1</td>\n",
       "      <td>173114463</td>\n",
       "      <td>12/31/2017</td>\n",
       "      <td>478.0</td>\n",
       "      <td>THEFT OF SERVICES, UNCLASSIFIED</td>\n",
       "      <td>343.0</td>\n",
       "      <td>OTHER OFFENSES RELATED TO THEFT</td>\n",
       "      <td>PL 1651503</td>\n",
       "      <td>M</td>\n",
       "      <td>Q</td>\n",
       "      <td>...</td>\n",
       "      <td>25-44</td>\n",
       "      <td>M</td>\n",
       "      <td>ASIAN / PACIFIC ISLANDER</td>\n",
       "      <td>1009113.0</td>\n",
       "      <td>219613.0</td>\n",
       "      <td>40.769437</td>\n",
       "      <td>-73.910241</td>\n",
       "      <td>1.0</td>\n",
       "      <td>11105</td>\n",
       "      <td>Astoria</td>\n",
       "    </tr>\n",
       "    <tr>\n",
       "      <th>2</th>\n",
       "      <td>2</td>\n",
       "      <td>173113513</td>\n",
       "      <td>12/31/2017</td>\n",
       "      <td>849.0</td>\n",
       "      <td>NY STATE LAWS,UNCLASSIFIED VIOLATION</td>\n",
       "      <td>677.0</td>\n",
       "      <td>OTHER STATE LAWS</td>\n",
       "      <td>LOC000000V</td>\n",
       "      <td>V</td>\n",
       "      <td>K</td>\n",
       "      <td>...</td>\n",
       "      <td>18-24</td>\n",
       "      <td>M</td>\n",
       "      <td>BLACK</td>\n",
       "      <td>1010719.0</td>\n",
       "      <td>186857.0</td>\n",
       "      <td>40.679525</td>\n",
       "      <td>-73.904572</td>\n",
       "      <td>2.0</td>\n",
       "      <td>11207</td>\n",
       "      <td>Brooklyn</td>\n",
       "    </tr>\n",
       "    <tr>\n",
       "      <th>3</th>\n",
       "      <td>3</td>\n",
       "      <td>173113423</td>\n",
       "      <td>12/31/2017</td>\n",
       "      <td>101.0</td>\n",
       "      <td>ASSAULT 3</td>\n",
       "      <td>344.0</td>\n",
       "      <td>ASSAULT 3 &amp; RELATED OFFENSES</td>\n",
       "      <td>PL 1200001</td>\n",
       "      <td>M</td>\n",
       "      <td>M</td>\n",
       "      <td>...</td>\n",
       "      <td>25-44</td>\n",
       "      <td>M</td>\n",
       "      <td>WHITE</td>\n",
       "      <td>987831.0</td>\n",
       "      <td>217446.0</td>\n",
       "      <td>40.763523</td>\n",
       "      <td>-73.987074</td>\n",
       "      <td>3.0</td>\n",
       "      <td>10019</td>\n",
       "      <td>New York</td>\n",
       "    </tr>\n",
       "    <tr>\n",
       "      <th>4</th>\n",
       "      <td>4</td>\n",
       "      <td>173113421</td>\n",
       "      <td>12/31/2017</td>\n",
       "      <td>101.0</td>\n",
       "      <td>ASSAULT 3</td>\n",
       "      <td>344.0</td>\n",
       "      <td>ASSAULT 3 &amp; RELATED OFFENSES</td>\n",
       "      <td>PL 1200001</td>\n",
       "      <td>M</td>\n",
       "      <td>M</td>\n",
       "      <td>...</td>\n",
       "      <td>45-64</td>\n",
       "      <td>M</td>\n",
       "      <td>BLACK</td>\n",
       "      <td>987073.0</td>\n",
       "      <td>216078.0</td>\n",
       "      <td>40.759768</td>\n",
       "      <td>-73.989811</td>\n",
       "      <td>4.0</td>\n",
       "      <td>10036</td>\n",
       "      <td>New York</td>\n",
       "    </tr>\n",
       "  </tbody>\n",
       "</table>\n",
       "<p>5 rows × 22 columns</p>\n",
       "</div>"
      ],
      "text/plain": [
       "   index  ARREST_KEY ARREST_DATE  PD_CD                               PD_DESC  \\\n",
       "0      0   173130602  12/31/2017  566.0                 MARIJUANA, POSSESSION   \n",
       "1      1   173114463  12/31/2017  478.0       THEFT OF SERVICES, UNCLASSIFIED   \n",
       "2      2   173113513  12/31/2017  849.0  NY STATE LAWS,UNCLASSIFIED VIOLATION   \n",
       "3      3   173113423  12/31/2017  101.0                             ASSAULT 3   \n",
       "4      4   173113421  12/31/2017  101.0                             ASSAULT 3   \n",
       "\n",
       "   KY_CD                        OFNS_DESC    LAW_CODE LAW_CAT_CD ARREST_BORO  \\\n",
       "0  678.0          MISCELLANEOUS PENAL LAW  PL 2210500          V           Q   \n",
       "1  343.0  OTHER OFFENSES RELATED TO THEFT  PL 1651503          M           Q   \n",
       "2  677.0                 OTHER STATE LAWS  LOC000000V          V           K   \n",
       "3  344.0     ASSAULT 3 & RELATED OFFENSES  PL 1200001          M           M   \n",
       "4  344.0     ASSAULT 3 & RELATED OFFENSES  PL 1200001          M           M   \n",
       "\n",
       "   ...  AGE_GROUP  PERP_SEX                 PERP_RACE X_COORD_CD Y_COORD_CD  \\\n",
       "0  ...      25-44         M                     BLACK  1063056.0   207463.0   \n",
       "1  ...      25-44         M  ASIAN / PACIFIC ISLANDER  1009113.0   219613.0   \n",
       "2  ...      18-24         M                     BLACK  1010719.0   186857.0   \n",
       "3  ...      25-44         M                     WHITE   987831.0   217446.0   \n",
       "4  ...      45-64         M                     BLACK   987073.0   216078.0   \n",
       "\n",
       "    Latitude  Longitude  org_index  zipcode       city  \n",
       "0  40.735772 -73.715638        0.0    11426  Bellerose  \n",
       "1  40.769437 -73.910241        1.0    11105    Astoria  \n",
       "2  40.679525 -73.904572        2.0    11207   Brooklyn  \n",
       "3  40.763523 -73.987074        3.0    10019   New York  \n",
       "4  40.759768 -73.989811        4.0    10036   New York  \n",
       "\n",
       "[5 rows x 22 columns]"
      ]
     },
     "execution_count": 5,
     "metadata": {},
     "output_type": "execute_result"
    }
   ],
   "source": [
    "df.head()"
   ]
  },
  {
   "cell_type": "code",
   "execution_count": 26,
   "metadata": {},
   "outputs": [],
   "source": [
    "df = df.drop(columns=['index','org_index'])"
   ]
  },
  {
   "cell_type": "code",
   "execution_count": 27,
   "metadata": {},
   "outputs": [],
   "source": [
    "crimes_by_age = df.AGE_GROUP.value_counts().sort_values(ascending = False)[:5]"
   ]
  },
  {
   "cell_type": "code",
   "execution_count": 28,
   "metadata": {},
   "outputs": [
    {
     "data": {
      "text/plain": [
       "25-44    2199242\n",
       "18-24    1272256\n",
       "45-64     879628\n",
       "<18       401573\n",
       "65+        38965\n",
       "Name: AGE_GROUP, dtype: int64"
      ]
     },
     "execution_count": 28,
     "metadata": {},
     "output_type": "execute_result"
    }
   ],
   "source": [
    "crimes_by_age[:]"
   ]
  },
  {
   "cell_type": "code",
   "execution_count": 32,
   "metadata": {},
   "outputs": [
    {
     "data": {
      "text/plain": [
       "Text(0, 0.5, 'Number of Arrests')"
      ]
     },
     "execution_count": 32,
     "metadata": {},
     "output_type": "execute_result"
    },
    {
     "data": {
      "image/png": "[encoded data removed]",
      "text/plain": [
       "<Figure size 720x576 with 1 Axes>"
      ]
     },
     "metadata": {
      "needs_background": "light"
     },
     "output_type": "display_data"
    }
   ],
   "source": [
    "plt.figure(figsize=(10,8))\n",
    "sns.barplot(x=crimes_by_age.index, y = crimes_by_age )\n",
    "plt.title(\"Crime by Age Group\")\n",
    "plt.xlabel(\"Age group\")\n",
    "plt.ylabel(\"Number of Arrests\")"
   ]
  },
  {
   "cell_type": "code",
   "execution_count": 37,
   "metadata": {},
   "outputs": [],
   "source": [
    "crimes_by_city = df.city.value_counts().sort_values(ascending = False)[:10]"
   ]
  },
  {
   "cell_type": "code",
   "execution_count": 40,
   "metadata": {},
   "outputs": [
    {
     "data": {
      "text/plain": [
       "Text(0, 0.5, 'Number of Arrests')"
      ]
     },
     "execution_count": 40,
     "metadata": {},
     "output_type": "execute_result"
    },
    {
     "data": {
      "image/png": "[encoded data removed]",
      "text/plain": [
       "<Figure size 1080x720 with 1 Axes>"
      ]
     },
     "metadata": {
      "needs_background": "light"
     },
     "output_type": "display_data"
    }
   ],
   "source": [
    "plt.figure(figsize=(15,10))\n",
    "sns.barplot(x=crimes_by_city.index, y = crimes_by_city )\n",
    "plt.title(\"Crime by City\")\n",
    "plt.xlabel(\"City\")\n",
    "plt.ylabel(\"Number of Arrests\")"
   ]
  },
  {
   "cell_type": "code",
   "execution_count": 41,
   "metadata": {},
   "outputs": [],
   "source": [
    "df['Year'] = df.ARREST_DATE.apply(lambda x:x.split(\"/\")[-1])"
   ]
  },
  {
   "cell_type": "code",
   "execution_count": 57,
   "metadata": {},
   "outputs": [],
   "source": [
    "df['Month'] = df.ARREST_DATE.apply(lambda x:x.split(\"/\")[0])"
   ]
  },
  {
   "cell_type": "code",
   "execution_count": 58,
   "metadata": {},
   "outputs": [],
   "source": [
    "df['Day'] = df.ARREST_DATE.apply(lambda x:x.split(\"/\")[1])"
   ]
  },
  {
   "cell_type": "code",
   "execution_count": 59,
   "metadata": {},
   "outputs": [],
   "source": [
    "crimes_by_year = df.Year.value_counts()"
   ]
  },
  {
   "cell_type": "code",
   "execution_count": 60,
   "metadata": {},
   "outputs": [
    {
     "data": {
      "text/plain": [
       "Text(0, 0.5, 'Number of Arrests')"
      ]
     },
     "execution_count": 60,
     "metadata": {},
     "output_type": "execute_result"
    },
    {
     "data": {
      "image/png": "[encoded data removed]",
      "text/plain": [
       "<Figure size 1080x720 with 1 Axes>"
      ]
     },
     "metadata": {
      "needs_background": "light"
     },
     "output_type": "display_data"
    }
   ],
   "source": [
    "plt.figure(figsize=(15,10))\n",
    "sns.barplot(x=crimes_by_year.index, y = crimes_by_year )\n",
    "plt.title(\"Crime by year\")\n",
    "plt.xlabel(\"Year\")\n",
    "plt.ylabel(\"Number of Arrests\")"
   ]
  },
  {
   "cell_type": "code",
   "execution_count": 61,
   "metadata": {},
   "outputs": [
    {
     "data": {
      "text/plain": [
       "4104155    12/31/2018\n",
       "4104156    12/31/2018\n",
       "4104157    12/31/2018\n",
       "4104158    12/31/2018\n",
       "4104159    12/31/2018\n",
       "              ...    \n",
       "4791854    01/03/2018\n",
       "4791855    01/03/2018\n",
       "4791856    01/03/2018\n",
       "4791857    01/02/2018\n",
       "4791858    01/02/2018\n",
       "Name: ARREST_DATE, Length: 246743, dtype: object"
      ]
     },
     "execution_count": 61,
     "metadata": {},
     "output_type": "execute_result"
    }
   ],
   "source": [
    "df[df.Year == '2018']['ARREST_DATE']"
   ]
  },
  {
   "cell_type": "code",
   "execution_count": 62,
   "metadata": {},
   "outputs": [
    {
     "data": {
      "text/plain": [
       "('2018', '2006')"
      ]
     },
     "execution_count": 62,
     "metadata": {},
     "output_type": "execute_result"
    }
   ],
   "source": [
    "df.Year.max(), df.Year.min()"
   ]
  },
  {
   "cell_type": "code",
   "execution_count": 63,
   "metadata": {},
   "outputs": [],
   "source": [
    "arrests_by_month = df.Month.value_counts()"
   ]
  },
  {
   "cell_type": "code",
   "execution_count": null,
   "metadata": {},
   "outputs": [],
   "source": []
  },
  {
   "cell_type": "code",
   "execution_count": 64,
   "metadata": {},
   "outputs": [
    {
     "data": {
      "text/plain": [
       "Text(0, 0.5, 'Number of Arrests')"
      ]
     },
     "execution_count": 64,
     "metadata": {},
     "output_type": "execute_result"
    },
    {
     "data": {
      "image/png": "[encoded data removed]",
      "text/plain": [
       "<Figure size 1080x720 with 1 Axes>"
      ]
     },
     "metadata": {
      "needs_background": "light"
     },
     "output_type": "display_data"
    }
   ],
   "source": [
    "plt.figure(figsize=(15,10))\n",
    "sns.barplot(x=arrests_by_month.index, y = arrests_by_month )\n",
    "plt.title(\"Arrests by Month\")\n",
    "plt.xlabel(\"Month\")\n",
    "plt.ylabel(\"Number of Arrests\")"
   ]
  },
  {
   "cell_type": "code",
   "execution_count": 65,
   "metadata": {},
   "outputs": [],
   "source": [
    "arrests_by_month = arrests_by_month/ arrests_by_month.min()"
   ]
  },
  {
   "cell_type": "code",
   "execution_count": 66,
   "metadata": {},
   "outputs": [
    {
     "data": {
      "text/plain": [
       "Text(0, 0.5, 'Number of Arrests')"
      ]
     },
     "execution_count": 66,
     "metadata": {},
     "output_type": "execute_result"
    },
    {
     "data": {
      "image/png": "[encoded data removed]",
      "text/plain": [
       "<Figure size 1080x720 with 1 Axes>"
      ]
     },
     "metadata": {
      "needs_background": "light"
     },
     "output_type": "display_data"
    }
   ],
   "source": [
    "plt.figure(figsize=(15,10))\n",
    "sns.barplot(x=arrests_by_month.index, y = arrests_by_month )\n",
    "plt.title(\"Arrests by Month\")\n",
    "plt.xlabel(\"Month\")\n",
    "plt.ylabel(\"Number of Arrests\")"
   ]
  },
  {
   "cell_type": "code",
   "execution_count": null,
   "metadata": {},
   "outputs": [],
   "source": []
  }
 ],
 "metadata": {
  "kernelspec": {
   "display_name": "Python 3",
   "language": "python",
   "name": "python3"
  },
  "language_info": {
   "codemirror_mode": {
    "name": "ipython",
    "version": 3
   },
   "file_extension": ".py",
   "mimetype": "text/x-python",
   "name": "python",
   "nbconvert_exporter": "python",
   "pygments_lexer": "ipython3",
   "version": "3.7.5"
  }
 },
 "nbformat": 4,
 "nbformat_minor": 2
}
